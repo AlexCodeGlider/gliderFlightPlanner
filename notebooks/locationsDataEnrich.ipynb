{
 "cells": [
  {
   "cell_type": "code",
   "execution_count": 4,
   "metadata": {},
   "outputs": [],
   "source": [
    "from geopy.geocoders import Nominatim\n",
    "import pandas as pd\n",
    "\n",
    "# Initialize Nominatim API\n",
    "geolocator = Nominatim(user_agent=\"location_data_enricher\")\n",
    "\n",
    "# Load your CSV data into a DataFrame\n",
    "df = pd.read_csv('/Users/alejandroleda/Documents/Py/gliderFlightPlanner/data/Crystal23.csv')\n",
    "\n",
    "# Define a function to get location details\n",
    "def get_location_details(lat, lon):\n",
    "    location = geolocator.reverse((lat, lon), exactly_one=True)\n",
    "    address = location.raw['address']\n",
    "    return address.get('state'), address.get('county')\n",
    "\n",
    "# Apply the function to each row in your DataFrame\n",
    "df[['State', 'County']] = df.apply(lambda row: get_location_details(row['Lat'], row['Long']), axis=1, result_type='expand')\n",
    "\n",
    "# Save the enriched DataFrame back to CSV\n",
    "df.to_csv('/Users/alejandroleda/Documents/Py/gliderFlightPlanner/data/enriched_locations.csv', index=False)\n"
   ]
  }
 ],
 "metadata": {
  "kernelspec": {
   "display_name": "base",
   "language": "python",
   "name": "python3"
  },
  "language_info": {
   "codemirror_mode": {
    "name": "ipython",
    "version": 3
   },
   "file_extension": ".py",
   "mimetype": "text/x-python",
   "name": "python",
   "nbconvert_exporter": "python",
   "pygments_lexer": "ipython3",
   "version": "3.9.18"
  }
 },
 "nbformat": 4,
 "nbformat_minor": 2
}
